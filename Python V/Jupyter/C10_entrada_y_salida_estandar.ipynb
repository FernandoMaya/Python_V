{
 "cells": [
  {
   "cell_type": "markdown",
   "metadata": {},
   "source": [
    "# Entrada y salida estándar."
   ]
  },
  {
   "cell_type": "markdown",
   "metadata": {},
   "source": [
    "En la actualidad existen muchas fuentes desde las que se puede obtener y desplegar la información que un sistema de cómputo consume, gestiona y genera. Sin embargo, para el intérprete de Python la salida por defecto (salida estándar) de datos es la terminal de texto y la entrada estándar es el teclado.\n",
    "\n",
    "En el caso de las notebooks de *Jupyter*, cada celda de código representa a la entrada estándar mediante:\n",
    "\n",
    "```In[ ]:```\n",
    "\n",
    "Y la salida estándar mediante:\n",
    "\n",
    "```Out[ ]:```"
   ]
  },
  {
   "cell_type": "markdown",
   "metadata": {},
   "source": [
    "**Ejemplo:**"
   ]
  },
  {
   "cell_type": "code",
   "execution_count": 1,
   "metadata": {},
   "outputs": [
    {
     "data": {
      "text/plain": [
       "'HolaHolaHola'"
      ]
     },
     "execution_count": 1,
     "metadata": {},
     "output_type": "execute_result"
    }
   ],
   "source": [
    " 3 * \"Hola\""
   ]
  },
  {
   "cell_type": "markdown",
   "metadata": {},
   "source": [
    "## Salida estándar con la funcion ```print()```.\n",
    "\n",
    "En Python 3, la función ```print()``` se utiliza para desplegar información en la salida estándar.\n",
    "\n",
    "La sintaxis es la siguiente:\n",
    "\n",
    "```\n",
    "print(<expresión 1>, <expresión 2>, ...<expresión n>)\n",
    "```\n",
    "\n",
    "* La función ```print()``` evalúa y despliega una o varias expresiones.\n",
    "* Si el resultado de la expresión es un objeto ```str```, este es desplegado sin los apóstrofes o las comillas que lo delimitan."
   ]
  },
  {
   "cell_type": "markdown",
   "metadata": {},
   "source": [
    "**Ejemplos:**"
   ]
  },
  {
   "cell_type": "markdown",
   "metadata": {},
   "source": [
    "* La siguiente celda define el nombre ```a``` con valor igual a ```2```."
   ]
  },
  {
   "cell_type": "code",
   "execution_count": 2,
   "metadata": {},
   "outputs": [],
   "source": [
    "a = 2"
   ]
  },
  {
   "cell_type": "markdown",
   "metadata": {},
   "source": [
    "* La siguiente celda evalúa la expresión ```a```, por lo que desplegará ```2```."
   ]
  },
  {
   "cell_type": "code",
   "execution_count": 3,
   "metadata": {
    "scrolled": false
   },
   "outputs": [
    {
     "name": "stdout",
     "output_type": "stream",
     "text": [
      "2\n"
     ]
    }
   ],
   "source": [
    "print(a)"
   ]
  },
  {
   "cell_type": "markdown",
   "metadata": {},
   "source": [
    "*Nótese, sin embargo, que el tipo de print(a) es Nonetype*"
   ]
  },
  {
   "cell_type": "code",
   "execution_count": 4,
   "metadata": {},
   "outputs": [
    {
     "name": "stdout",
     "output_type": "stream",
     "text": [
      "2\n"
     ]
    },
    {
     "data": {
      "text/plain": [
       "NoneType"
      ]
     },
     "execution_count": 4,
     "metadata": {},
     "output_type": "execute_result"
    }
   ],
   "source": [
    "type(print(a))"
   ]
  },
  {
   "cell_type": "markdown",
   "metadata": {},
   "source": [
    "* La siguiente celda desplegará el mensaje dentro del objeto ```\"Hola\"```."
   ]
  },
  {
   "cell_type": "code",
   "execution_count": 5,
   "metadata": {},
   "outputs": [
    {
     "name": "stdout",
     "output_type": "stream",
     "text": [
      "Hola\n"
     ]
    }
   ],
   "source": [
    "print(\"Hola\")"
   ]
  },
  {
   "cell_type": "markdown",
   "metadata": {},
   "source": [
    "* En la siguiente celda la función ```print()``` desplegará dos expresiones que corresponde cada una a un objeto de tipo ```str```. Cada objeto será desplegado separado por un espacio.\n",
    "\n",
    "* La salida será ```Hola Mundo```."
   ]
  },
  {
   "cell_type": "code",
   "execution_count": 6,
   "metadata": {},
   "outputs": [
    {
     "name": "stdout",
     "output_type": "stream",
     "text": [
      "Hola Mundo\n"
     ]
    }
   ],
   "source": [
    "print(\"Hola\",\"Mundo\")"
   ]
  },
  {
   "cell_type": "code",
   "execution_count": 7,
   "metadata": {},
   "outputs": [],
   "source": [
    "dinero=30"
   ]
  },
  {
   "cell_type": "code",
   "execution_count": 8,
   "metadata": {},
   "outputs": [
    {
     "name": "stdout",
     "output_type": "stream",
     "text": [
      "Hoy gané $30 en mi trabajo\n"
     ]
    }
   ],
   "source": [
    "print(\"Hoy gané $\"+str(dinero),\"en mi trabajo\")"
   ]
  },
  {
   "cell_type": "markdown",
   "metadata": {},
   "source": [
    "* En la siguiente celda la función ```print()``` desplegará el resultado de una expresión de concatenación entre dos objetos de tipo ```str```. El resultado es un objeto ```str```.\n",
    "\n",
    "* La salida será ```HolaMundo```."
   ]
  },
  {
   "cell_type": "code",
   "execution_count": 9,
   "metadata": {},
   "outputs": [
    {
     "name": "stdout",
     "output_type": "stream",
     "text": [
      "HolaMundo\n"
     ]
    }
   ],
   "source": [
    "print(\"Hola\" + \"Mundo\")"
   ]
  },
  {
   "cell_type": "markdown",
   "metadata": {},
   "source": [
    "* En la siguiente celda la función ```print()``` desplegará tres expresiones que corresponden a:\n",
    "  * El objeto ```'Tienes'``` de tipo ```str```.\n",
    "  * El objeto ```2``` de tipo ```int``` ligado al nombre ```a```.\n",
    "  * El objeto ```'buenos amigos'``` de tipo ```str```.\n",
    "\n",
    "Cada expresión será desplegada separada por un espacio.\n",
    "\n",
    "* La salida será ```Tienes 2 buenos amigos.```."
   ]
  },
  {
   "cell_type": "code",
   "execution_count": 10,
   "metadata": {},
   "outputs": [
    {
     "name": "stdout",
     "output_type": "stream",
     "text": [
      "Tienes 2 buenos amigos.\n"
     ]
    }
   ],
   "source": [
    "print(\"Tienes\", a, \"buenos amigos.\")"
   ]
  },
  {
   "cell_type": "markdown",
   "metadata": {},
   "source": [
    "* En la siguiente celda la función ```print()``` intentará desplegar el resultado de la expresión ```\"Tienes\" + a + \"buenos amigos.\"```, la cual no es correcta y generará un error de tipo ```TypeError```."
   ]
  },
  {
   "cell_type": "code",
   "execution_count": 11,
   "metadata": {
    "scrolled": true
   },
   "outputs": [
    {
     "ename": "TypeError",
     "evalue": "can only concatenate str (not \"int\") to str",
     "output_type": "error",
     "traceback": [
      "\u001b[0;31m---------------------------------------------------------------------------\u001b[0m",
      "\u001b[0;31mTypeError\u001b[0m                                 Traceback (most recent call last)",
      "\u001b[0;32m<ipython-input-11-e72a50cbaac8>\u001b[0m in \u001b[0;36m<module>\u001b[0;34m\u001b[0m\n\u001b[0;32m----> 1\u001b[0;31m \u001b[0mprint\u001b[0m\u001b[0;34m(\u001b[0m\u001b[0;34m\"Tienes\"\u001b[0m \u001b[0;34m+\u001b[0m \u001b[0ma\u001b[0m \u001b[0;34m+\u001b[0m \u001b[0;34m\"buenos amigos.\"\u001b[0m\u001b[0;34m)\u001b[0m\u001b[0;34m\u001b[0m\u001b[0;34m\u001b[0m\u001b[0m\n\u001b[0m",
      "\u001b[0;31mTypeError\u001b[0m: can only concatenate str (not \"int\") to str"
     ]
    }
   ],
   "source": [
    "print(\"Tienes\" + a + \"buenos amigos.\")"
   ]
  },
  {
   "cell_type": "code",
   "execution_count": 12,
   "metadata": {},
   "outputs": [
    {
     "name": "stdout",
     "output_type": "stream",
     "text": [
      "Tienes 2 buenos amigos.\n"
     ]
    }
   ],
   "source": [
    "print(\"Tienes \" + str(a) + \" buenos amigos.\")"
   ]
  },
  {
   "cell_type": "markdown",
   "metadata": {},
   "source": [
    "### Despliegue con formato.\n",
    "\n",
    "Para intercalar valores dentro de un formato específico de texto se utiliza el caracter sobre-escritura definido como el signo de porcentaje ```%``` seguido de algún caracter que definirá el modo de desplegar la expresión correspondiente.\n",
    "\n",
    "```\n",
    "print(\"...%<caracter>...\" % expresión 1) \n",
    "```\n",
    "\n",
    "```\n",
    "print(\"...%<caracter 1>...%<caracter n>...\" %(<expresión 1>,...<expresión n>))\n",
    "```\n",
    "\n",
    "\n",
    "\n",
    "|Caracter de escape|Modo de despliegue|\n",
    "|:----------------:|:----------------:|\n",
    "|```%s```|\tcadena de texto|\n",
    "|```%d```|\t entero|\n",
    "|```%o```|\t octal|\n",
    "|```%x```|\t hexadecimal|\n",
    "|```%f```|\t punto flotante|\n",
    "|```%e```|\t punto flotante en formato exponencial|    \n",
    "\n",
    "El uso de ```%s```, equivale a aplicar la función ```str()``` al valor a desplegar."
   ]
  },
  {
   "cell_type": "markdown",
   "metadata": {},
   "source": [
    "**Ejemplos:**"
   ]
  },
  {
   "cell_type": "code",
   "execution_count": 13,
   "metadata": {},
   "outputs": [],
   "source": [
    "pi = 3.141592\n",
    "radio = 2"
   ]
  },
  {
   "cell_type": "code",
   "execution_count": 14,
   "metadata": {},
   "outputs": [
    {
     "name": "stdout",
     "output_type": "stream",
     "text": [
      "El perímetro de un círculo de radio 2 tiene área 12.566368\n"
     ]
    }
   ],
   "source": [
    "print(\"El perímetro de un círculo de radio %d tiene área %f\" % (2, pi*radio**2))"
   ]
  },
  {
   "cell_type": "code",
   "execution_count": 15,
   "metadata": {},
   "outputs": [
    {
     "name": "stdout",
     "output_type": "stream",
     "text": [
      "El perímetro de un círculo de radio 2 es 12.\n"
     ]
    }
   ],
   "source": [
    "print(\"El perímetro de un círculo de radio %d es %d.\" % (radio, 2 * radio * pi))"
   ]
  },
  {
   "cell_type": "code",
   "execution_count": 16,
   "metadata": {},
   "outputs": [
    {
     "name": "stdout",
     "output_type": "stream",
     "text": [
      "El perímetro de un circulo de radio 2 es 12.566368.\n"
     ]
    }
   ],
   "source": [
    "print(\"El perímetro de un circulo de radio %s es %s.\" % (radio, 2 * radio * pi))"
   ]
  },
  {
   "cell_type": "code",
   "execution_count": 17,
   "metadata": {},
   "outputs": [
    {
     "name": "stdout",
     "output_type": "stream",
     "text": [
      "El valor de pi es 3.141592.\n"
     ]
    }
   ],
   "source": [
    "print(\"El valor de pi es %f.\" % (pi))"
   ]
  },
  {
   "cell_type": "code",
   "execution_count": 18,
   "metadata": {},
   "outputs": [
    {
     "name": "stdout",
     "output_type": "stream",
     "text": [
      "El valor de pi es 3.141592e+00.\n"
     ]
    }
   ],
   "source": [
    "print(\"El valor de pi es %e.\" % (pi))"
   ]
  },
  {
   "cell_type": "markdown",
   "metadata": {},
   "source": [
    "Para desplegar el signo de porcentaje ```%``` se utiliza ```%%```."
   ]
  },
  {
   "cell_type": "markdown",
   "metadata": {},
   "source": [
    "**Ejemplo:**"
   ]
  },
  {
   "cell_type": "code",
   "execution_count": 19,
   "metadata": {},
   "outputs": [
    {
     "name": "stdout",
     "output_type": "stream",
     "text": [
      "El 15% de 13.000000 es 1.950000.\n"
     ]
    }
   ],
   "source": [
    "valor = 13\n",
    "porciento = 15\n",
    "porcentaje = (valor * porciento) / 100\n",
    "print(\"El %d%% de %f es %f.\" % (porciento, valor, porcentaje))"
   ]
  },
  {
   "cell_type": "markdown",
   "metadata": {},
   "source": [
    "#### Despliegue de cifras significativas.\n",
    "\n",
    "Para desplegar un número específico de cifras significativas de un valor de punto flotante, se añade un punto ```.``` y el número de cifras a desplegarse después del signo de porcentaje ```%``` y antes del carácter ```f``` o ```e```.\n",
    "\n",
    "```\n",
    "%.<n>f\n",
    "```"
   ]
  },
  {
   "cell_type": "markdown",
   "metadata": {},
   "source": [
    "**Ejemplos:**"
   ]
  },
  {
   "cell_type": "code",
   "execution_count": 20,
   "metadata": {},
   "outputs": [],
   "source": [
    "pi = 3.14159265\n",
    "radio = 2"
   ]
  },
  {
   "cell_type": "code",
   "execution_count": 21,
   "metadata": {},
   "outputs": [
    {
     "name": "stdout",
     "output_type": "stream",
     "text": [
      "El perímetro de un círculo de radio igual a 2 es 12.566371.\n"
     ]
    }
   ],
   "source": [
    "print(\"El perímetro de un círculo de radio igual a %d es %f.\" % (radio, 2 * pi * radio))"
   ]
  },
  {
   "cell_type": "code",
   "execution_count": 22,
   "metadata": {},
   "outputs": [
    {
     "name": "stdout",
     "output_type": "stream",
     "text": [
      "El perímetro de un círculo de radio igual a 2 es 12.566.\n"
     ]
    }
   ],
   "source": [
    "print(\"El perímetro de un círculo de radio igual a %d es %.3f.\" % (radio, 2 * pi * radio))"
   ]
  },
  {
   "cell_type": "markdown",
   "metadata": {},
   "source": [
    "### Caracteres de escape.\n",
    "\n",
    "Existen algunos caracteres que por su función o por la sintaxis de Python -tales como los apóstrofes, las comillas, los retornos de línea, etc.- que deben utilizar un \"caracter de escape\", para que puedan ser desplegados. Los caracteres de escape pueden ser introducidos después de una diagonal invertida ```\\```.\n",
    "\n",
    "|Secuencia|Despliegue|\n",
    "|:-------:|:--------:|\n",
    "|```\\n```    |Retorno de línea|\n",
    "|```\\t```    |Tabulador |\n",
    "|```\\\"```    |Comillas  |\n",
    "|```\\'```    |Apóstrofe |\n",
    "|```\\\\```   |Diagonal invertida|\n",
    "|```\\xNN```  |Caracter que corresponde al número hexadecimal *NN* en ASCII|\n",
    "|```\\uNN```  |Caracter que corresponde al número hexadecimal *NN* en Unicode|"
   ]
  },
  {
   "cell_type": "markdown",
   "metadata": {},
   "source": [
    "**Ejemplo:**"
   ]
  },
  {
   "cell_type": "code",
   "execution_count": 23,
   "metadata": {},
   "outputs": [
    {
     "name": "stdout",
     "output_type": "stream",
     "text": [
      "Primera línea.\n",
      "Segunda línea\tcon tabulador.\n"
     ]
    }
   ],
   "source": [
    "print(\"Primera línea.\\nSegunda línea\\tcon tabulador.\")"
   ]
  },
  {
   "cell_type": "code",
   "execution_count": 24,
   "metadata": {},
   "outputs": [
    {
     "name": "stdout",
     "output_type": "stream",
     "text": [
      "Este es el signo de \"gato\" #.\n"
     ]
    }
   ],
   "source": [
    "print(\"Este es el signo de \\\"gato\\\" \\x23.\")"
   ]
  },
  {
   "cell_type": "code",
   "execution_count": 25,
   "metadata": {},
   "outputs": [
    {
     "name": "stdout",
     "output_type": "stream",
     "text": [
      "Beta: ß\n"
     ]
    }
   ],
   "source": [
    "print(\"Beta: \\u00DF\")"
   ]
  },
  {
   "cell_type": "code",
   "execution_count": 26,
   "metadata": {},
   "outputs": [
    {
     "name": "stdout",
     "output_type": "stream",
     "text": [
      "I ❤ YOU!\n"
     ]
    }
   ],
   "source": [
    "print('I \\u2764 YOU!')"
   ]
  },
  {
   "cell_type": "markdown",
   "metadata": {},
   "source": [
    "## Entrada estándar con la función ```input()```. \n",
    "\n",
    "La función por defecto de entrada estándar para Python 3 es ```input()```.\n",
    "\n",
    "La función ```input()``` captura los caracteres provenientes de entrada estándar (el teclado) hasta que se introduce un retorno de carro <kbd>Intro</kbd> y el contenido capturado es devuelto al intérprete como una cadena de texto. \n",
    "\n",
    "La cadena de caracteres resultante puede ser almacenada como un objeto de tipo ```str``` mediante la asignación de un nombre.\n",
    "\n",
    "La función permite desplegar un mensaje de tipo ```str``` como parámetro.\n",
    "\n",
    "``` \n",
    "input(<objeto tipo str>)\n",
    "```"
   ]
  },
  {
   "cell_type": "markdown",
   "metadata": {},
   "source": [
    "**Ejemplos:**"
   ]
  },
  {
   "cell_type": "code",
   "execution_count": 27,
   "metadata": {},
   "outputs": [
    {
     "name": "stdout",
     "output_type": "stream",
     "text": [
      "HOLA\n"
     ]
    },
    {
     "data": {
      "text/plain": [
       "'HOLA'"
      ]
     },
     "execution_count": 27,
     "metadata": {},
     "output_type": "execute_result"
    }
   ],
   "source": [
    "input()"
   ]
  },
  {
   "cell_type": "code",
   "execution_count": 28,
   "metadata": {},
   "outputs": [
    {
     "name": "stdout",
     "output_type": "stream",
     "text": [
      "HOLA\n"
     ]
    }
   ],
   "source": [
    "texto = input()"
   ]
  },
  {
   "cell_type": "code",
   "execution_count": 29,
   "metadata": {},
   "outputs": [
    {
     "data": {
      "text/plain": [
       "str"
      ]
     },
     "execution_count": 29,
     "metadata": {},
     "output_type": "execute_result"
    }
   ],
   "source": [
    "type(texto)"
   ]
  },
  {
   "cell_type": "code",
   "execution_count": 30,
   "metadata": {},
   "outputs": [
    {
     "data": {
      "text/plain": [
       "'H'"
      ]
     },
     "execution_count": 30,
     "metadata": {},
     "output_type": "execute_result"
    }
   ],
   "source": [
    "texto[-4]"
   ]
  },
  {
   "cell_type": "code",
   "execution_count": 31,
   "metadata": {},
   "outputs": [
    {
     "name": "stdout",
     "output_type": "stream",
     "text": [
      "HOLA\n"
     ]
    }
   ],
   "source": [
    "print(texto)"
   ]
  },
  {
   "cell_type": "code",
   "execution_count": 1,
   "metadata": {},
   "outputs": [
    {
     "name": "stdout",
     "output_type": "stream",
     "text": [
      "Escribe un nombre: Fernando\n",
      "Fernando\n"
     ]
    }
   ],
   "source": [
    "nombre = input(\"Escribe un nombre: \")\n",
    "print(nombre)"
   ]
  },
  {
   "cell_type": "markdown",
   "metadata": {},
   "source": [
    "## Entrada y salida estándar en Python 2."
   ]
  },
  {
   "cell_type": "markdown",
   "metadata": {},
   "source": [
    "\n",
    "### La función ```raw_input()```.\n",
    "\n",
    "La sintaxis es la siguiente para Python 2:\n",
    "\n",
    "``` \n",
    "raw_input(<objeto tipo str>)\n",
    "```\n",
    "\n",
    "**Ejemplo:**\n",
    "\n",
    "``` python\n",
    ">>> raw_input()\n",
    "Hola\n",
    "'Hola'\n",
    ">>> texto = raw_input()\n",
    "Hola\n",
    ">>> type(texto)\n",
    "<type 'str'>\n",
    ">>> print texto\n",
    "Hola\n",
    ">>> nombre = raw_input(\"Escribe un nombre: \")\n",
    "Escribe un nombre: Juan\n",
    ">>> print nombre\n",
    "Juan\n",
    ">>> \n",
    "```\n",
    "### La función ```input()``` en Python 2.\n",
    "\n",
    "Además de ```raw_input()```, existe la función ```input()```, la cual es semejante a ejecutar ```eval(raw_input())```.\n",
    "\n",
    "Si la expresión ingresada es correcta, La función ```input()``` puede regresar valores de diversos tipos, en vez de sólo cadenas de texto.\n",
    "\n",
    "**Ejemplo:**\n",
    "\n",
    "``` python\n",
    ">>> mensaje = \"Ingresa el texto: \"\n",
    ">>> valor = raw_input(mensaje)\n",
    "Ingresa el texto: 35 + 21\n",
    ">>> type(valor)\n",
    "<type 'str'>\n",
    ">>> print valor\n",
    "35 + 21\n",
    ">>> valor = input(mensaje)\n",
    "Ingresa el texto: 35 + 21\n",
    ">>> type(valor)\n",
    "<type 'int'>\n",
    ">>> print valor\n",
    "56\n",
    ">>> valor = input(mensaje)\n",
    "Ingresa el texto: \"Hola\"\n",
    ">>> type(valor)\n",
    "<type 'str'>\n",
    ">>> print valor\n",
    "Hola\n",
    ">>> valor = input(mensaje)\n",
    "Ingresa el texto: Hola\n",
    "Traceback (most recent call last):\n",
    "  File \"<stdin>\", line 1, in <module>\n",
    "  File \"<string>\", line 1, in <module>\n",
    "NameError: name 'Hola' is not defined\n",
    ">>>\n",
    "```\n",
    "**NOTA:** La función ```input()```, tal como se usa en Python 2 tiene el potencial de generar diversos errores y es susceptible de vulnerabilidades de seguridad debido a que podría usarse para inyectar código malicioso. Es por eso por lo que en Python 3, ```input()``` se comporta como ```raw_input()``` y la función ```raw_input()``` fue desechada."
   ]
  },
  {
   "cell_type": "code",
   "execution_count": null,
   "metadata": {},
   "outputs": [],
   "source": [
    "eval(input('Ingresa: '))"
   ]
  }
 ],
 "metadata": {
  "kernelspec": {
   "display_name": "Python 3",
   "language": "python",
   "name": "python3"
  },
  "language_info": {
   "codemirror_mode": {
    "name": "ipython",
    "version": 3
   },
   "file_extension": ".py",
   "mimetype": "text/x-python",
   "name": "python",
   "nbconvert_exporter": "python",
   "pygments_lexer": "ipython3",
   "version": "3.8.3"
  }
 },
 "nbformat": 4,
 "nbformat_minor": 1
}
